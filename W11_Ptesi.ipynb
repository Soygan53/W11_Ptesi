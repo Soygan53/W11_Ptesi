{
  "nbformat": 4,
  "nbformat_minor": 0,
  "metadata": {
    "colab": {
      "provenance": []
    },
    "kernelspec": {
      "name": "python3",
      "display_name": "Python 3"
    },
    "language_info": {
      "name": "python"
    }
  },
  "cells": [
    {
      "cell_type": "markdown",
      "source": [
        "## Ödev1) Boş Copy Nedir? \".Copy\" Nedir, yazdıktan sonra neleri değiştirir, neleri değiştirmez ?\n",
        "##DeepCopy Nedir? Shallow Copy Nedir? Bunlar oluşturduğumuz df'de neleri değiştirir?\n"
      ],
      "metadata": {
        "id": "DVgoRhWQlI-9"
      }
    },
    {
      "cell_type": "markdown",
      "source": [
        "Cevap1) Boş copy .copy() ile çağrılır ve üzerine işlenen listenin yeni bir kopyası üretilmez, hedef ile nesne arasında bir bağ oluşur. Yazıldıktan sonra değişebilir veya değişemez demek için kopyalama tekniğine bakmak gerekir. Fakat .copy() bir shallow copy yöntemi olduğu için asıl listeye bağlıdır.\n",
        "\n",
        "Shallow copy yapıldıktan sonra oluşan kopya, kopya yapılan listeye bağlıdır. Fakat DeepCopy yapıldıktan sonra oluşan kopya yeni bir nesnedir."
      ],
      "metadata": {
        "id": "Wojze6AKldjm"
      }
    },
    {
      "cell_type": "markdown",
      "source": [
        "##Ödev2)e-01 yerine 0.78'i nasıl görebiliriz? "
      ],
      "metadata": {
        "id": "qo53E0Q3npno"
      }
    },
    {
      "cell_type": "code",
      "source": [
        "A=1.72e-05\n",
        "print(A)\n",
        "B=format(float('1.72e-05'), 'f')\n",
        "print(B)"
      ],
      "metadata": {
        "colab": {
          "base_uri": "https://localhost:8080/"
        },
        "id": "i1k4LOQan49G",
        "outputId": "6d92a535-57a3-414b-83c5-dee2c07ede42"
      },
      "execution_count": 3,
      "outputs": [
        {
          "output_type": "stream",
          "name": "stdout",
          "text": [
            "1.72e-05\n",
            "0.000017\n"
          ]
        }
      ]
    },
    {
      "cell_type": "markdown",
      "source": [
        "##Ödev3)\"np.Log()\" doğal logoritma dediğimiz şekilde mi gelir yoksa log 2 tabanında mı gelir?"
      ],
      "metadata": {
        "id": "aKxgo3AaoPn7"
      }
    },
    {
      "cell_type": "code",
      "source": [
        "import numpy\n",
        "numpy.log([1, numpy.e, numpy.e**2,10])"
      ],
      "metadata": {
        "colab": {
          "base_uri": "https://localhost:8080/"
        },
        "id": "-Ffv2HYOoar-",
        "outputId": "ceac2d0e-05f8-4e17-d818-e99d333b9bfc"
      },
      "execution_count": 6,
      "outputs": [
        {
          "output_type": "execute_result",
          "data": {
            "text/plain": [
              "array([0.        , 1.        , 2.        , 2.30258509])"
            ]
          },
          "metadata": {},
          "execution_count": 6
        }
      ]
    },
    {
      "cell_type": "markdown",
      "source": [
        "6. kod satırında da görüldüğü üzere np.Log() 10 tabanında da değildir, 2 tabanında da değildir. e tabanında işlem yapar, yani ln gibidir."
      ],
      "metadata": {
        "id": "ejJRo8LSop07"
      }
    },
    {
      "cell_type": "markdown",
      "source": [
        "##Ödev4)Yeo-Johnson çok büyük değerlerde uygulanamıyor mu? Neden Income değerlerindeki \"10\" olan değerimizi arttırdığımızda(1000 yaptığımızda) çıktımızda bozulmalar oluyor?"
      ],
      "metadata": {
        "id": "xMIn5fXTlPdV"
      }
    },
    {
      "cell_type": "code",
      "source": [
        "import pandas as pd\n",
        "df = pd.DataFrame({\n",
        "    \"Income\": [15,18,120,10],\n",
        "    \"Age\": [25,-1818,42,51],\n",
        "    \"Income_2\":[15000,18000,120000,10000]\n",
        "})\n",
        "\n",
        "df_scaled= df.copy()\n",
        "col_names=[\"Income\",\"Age\",\"Income_2\"]\n",
        "features=df_scaled[col_names]\n",
        "features\n",
        "from sklearn.preprocessing import PowerTransformer\n",
        "scaler=PowerTransformer(method=\"yeo-johnson\")\n",
        "df_scaled[col_names]=scaler.fit_transform(features.values)\n",
        "df_scaled"
      ],
      "metadata": {
        "colab": {
          "base_uri": "https://localhost:8080/",
          "height": 211
        },
        "id": "kNC2k0h1qC7M",
        "outputId": "f1a5728a-1667-4ad8-c503-f7f8c7d40729"
      },
      "execution_count": 16,
      "outputs": [
        {
          "output_type": "stream",
          "name": "stderr",
          "text": [
            "/usr/local/lib/python3.7/dist-packages/sklearn/preprocessing/_data.py:3253: RuntimeWarning: divide by zero encountered in log\n",
            "  loglike = -n_samples / 2 * np.log(x_trans.var())\n"
          ]
        },
        {
          "output_type": "execute_result",
          "data": {
            "text/plain": [
              "     Income       Age  Income_2\n",
              "0 -0.317514 -0.165105       0.0\n",
              "1  0.006579 -1.546334       0.0\n",
              "2  1.543055  0.613769       0.0\n",
              "3 -1.232121  1.097670       0.0"
            ],
            "text/html": [
              "\n",
              "  <div id=\"df-09b1f19e-61c2-45ef-8e64-ed229f477dd1\">\n",
              "    <div class=\"colab-df-container\">\n",
              "      <div>\n",
              "<style scoped>\n",
              "    .dataframe tbody tr th:only-of-type {\n",
              "        vertical-align: middle;\n",
              "    }\n",
              "\n",
              "    .dataframe tbody tr th {\n",
              "        vertical-align: top;\n",
              "    }\n",
              "\n",
              "    .dataframe thead th {\n",
              "        text-align: right;\n",
              "    }\n",
              "</style>\n",
              "<table border=\"1\" class=\"dataframe\">\n",
              "  <thead>\n",
              "    <tr style=\"text-align: right;\">\n",
              "      <th></th>\n",
              "      <th>Income</th>\n",
              "      <th>Age</th>\n",
              "      <th>Income_2</th>\n",
              "    </tr>\n",
              "  </thead>\n",
              "  <tbody>\n",
              "    <tr>\n",
              "      <th>0</th>\n",
              "      <td>-0.317514</td>\n",
              "      <td>-0.165105</td>\n",
              "      <td>0.0</td>\n",
              "    </tr>\n",
              "    <tr>\n",
              "      <th>1</th>\n",
              "      <td>0.006579</td>\n",
              "      <td>-1.546334</td>\n",
              "      <td>0.0</td>\n",
              "    </tr>\n",
              "    <tr>\n",
              "      <th>2</th>\n",
              "      <td>1.543055</td>\n",
              "      <td>0.613769</td>\n",
              "      <td>0.0</td>\n",
              "    </tr>\n",
              "    <tr>\n",
              "      <th>3</th>\n",
              "      <td>-1.232121</td>\n",
              "      <td>1.097670</td>\n",
              "      <td>0.0</td>\n",
              "    </tr>\n",
              "  </tbody>\n",
              "</table>\n",
              "</div>\n",
              "      <button class=\"colab-df-convert\" onclick=\"convertToInteractive('df-09b1f19e-61c2-45ef-8e64-ed229f477dd1')\"\n",
              "              title=\"Convert this dataframe to an interactive table.\"\n",
              "              style=\"display:none;\">\n",
              "        \n",
              "  <svg xmlns=\"http://www.w3.org/2000/svg\" height=\"24px\"viewBox=\"0 0 24 24\"\n",
              "       width=\"24px\">\n",
              "    <path d=\"M0 0h24v24H0V0z\" fill=\"none\"/>\n",
              "    <path d=\"M18.56 5.44l.94 2.06.94-2.06 2.06-.94-2.06-.94-.94-2.06-.94 2.06-2.06.94zm-11 1L8.5 8.5l.94-2.06 2.06-.94-2.06-.94L8.5 2.5l-.94 2.06-2.06.94zm10 10l.94 2.06.94-2.06 2.06-.94-2.06-.94-.94-2.06-.94 2.06-2.06.94z\"/><path d=\"M17.41 7.96l-1.37-1.37c-.4-.4-.92-.59-1.43-.59-.52 0-1.04.2-1.43.59L10.3 9.45l-7.72 7.72c-.78.78-.78 2.05 0 2.83L4 21.41c.39.39.9.59 1.41.59.51 0 1.02-.2 1.41-.59l7.78-7.78 2.81-2.81c.8-.78.8-2.07 0-2.86zM5.41 20L4 18.59l7.72-7.72 1.47 1.35L5.41 20z\"/>\n",
              "  </svg>\n",
              "      </button>\n",
              "      \n",
              "  <style>\n",
              "    .colab-df-container {\n",
              "      display:flex;\n",
              "      flex-wrap:wrap;\n",
              "      gap: 12px;\n",
              "    }\n",
              "\n",
              "    .colab-df-convert {\n",
              "      background-color: #E8F0FE;\n",
              "      border: none;\n",
              "      border-radius: 50%;\n",
              "      cursor: pointer;\n",
              "      display: none;\n",
              "      fill: #1967D2;\n",
              "      height: 32px;\n",
              "      padding: 0 0 0 0;\n",
              "      width: 32px;\n",
              "    }\n",
              "\n",
              "    .colab-df-convert:hover {\n",
              "      background-color: #E2EBFA;\n",
              "      box-shadow: 0px 1px 2px rgba(60, 64, 67, 0.3), 0px 1px 3px 1px rgba(60, 64, 67, 0.15);\n",
              "      fill: #174EA6;\n",
              "    }\n",
              "\n",
              "    [theme=dark] .colab-df-convert {\n",
              "      background-color: #3B4455;\n",
              "      fill: #D2E3FC;\n",
              "    }\n",
              "\n",
              "    [theme=dark] .colab-df-convert:hover {\n",
              "      background-color: #434B5C;\n",
              "      box-shadow: 0px 1px 3px 1px rgba(0, 0, 0, 0.15);\n",
              "      filter: drop-shadow(0px 1px 2px rgba(0, 0, 0, 0.3));\n",
              "      fill: #FFFFFF;\n",
              "    }\n",
              "  </style>\n",
              "\n",
              "      <script>\n",
              "        const buttonEl =\n",
              "          document.querySelector('#df-09b1f19e-61c2-45ef-8e64-ed229f477dd1 button.colab-df-convert');\n",
              "        buttonEl.style.display =\n",
              "          google.colab.kernel.accessAllowed ? 'block' : 'none';\n",
              "\n",
              "        async function convertToInteractive(key) {\n",
              "          const element = document.querySelector('#df-09b1f19e-61c2-45ef-8e64-ed229f477dd1');\n",
              "          const dataTable =\n",
              "            await google.colab.kernel.invokeFunction('convertToInteractive',\n",
              "                                                     [key], {});\n",
              "          if (!dataTable) return;\n",
              "\n",
              "          const docLinkHtml = 'Like what you see? Visit the ' +\n",
              "            '<a target=\"_blank\" href=https://colab.research.google.com/notebooks/data_table.ipynb>data table notebook</a>'\n",
              "            + ' to learn more about interactive tables.';\n",
              "          element.innerHTML = '';\n",
              "          dataTable['output_type'] = 'display_data';\n",
              "          await google.colab.output.renderOutput(dataTable, element);\n",
              "          const docLink = document.createElement('div');\n",
              "          docLink.innerHTML = docLinkHtml;\n",
              "          element.appendChild(docLink);\n",
              "        }\n",
              "      </script>\n",
              "    </div>\n",
              "  </div>\n",
              "  "
            ]
          },
          "metadata": {},
          "execution_count": 16
        }
      ]
    },
    {
      "cell_type": "markdown",
      "source": [
        "16. kod satırında görüldüğü üzere Income ve Age sütunları ölçeklenirken Income_2 sütunu ölçeklenmedi ve tüm değerlere direkt 0 verildi.\n",
        "yeo johnson dönüşümü şu şekildedir.\n",
        "\n",
        "\n",
        "y =\n",
        "\n",
        "    ((x + 1)**lmbda - 1) / lmbda,                for x >= 0, lmbda != 0\n",
        "    log(x + 1),                                  for x >= 0, lmbda = 0\n",
        "    -((-x + 1)**(2 - lmbda) - 1) / (2 - lmbda),  for x < 0, lmbda != 2\n",
        "    -log(-x + 1),                                for x < 0, lmbda = 2\n",
        "\n",
        "yukarıda verilen y'ye bağlı fonksiyonda x ve lmbda değerleri yeojohnson içinde ayarlanabilir parametrelerdir ve x bir tek boyutlu arraydir ve lmbda ise float tarzıdır."
      ],
      "metadata": {
        "id": "0py4aToZvPud"
      }
    },
    {
      "cell_type": "markdown",
      "source": [
        "![images.png](data:image/png;base64,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)"
      ],
      "metadata": {
        "id": "zGy0k0HgziA2"
      }
    },
    {
      "cell_type": "markdown",
      "source": [
        "lmbda değeri default None olarak gelir. "
      ],
      "metadata": {
        "id": "oMgmP2SFzolm"
      }
    },
    {
      "cell_type": "code",
      "source": [
        "from scipy import stats\n",
        "import matplotlib.pyplot as plt\n",
        "\n",
        "Income_2=(10,1,10,40)\n",
        "R = stats.yeojohnson(x=Income_2,lmbda=0.001)\n",
        "R"
      ],
      "metadata": {
        "colab": {
          "base_uri": "https://localhost:8080/"
        },
        "id": "2zrWfd4Nvx7X",
        "outputId": "18e2086e-bee5-4a77-e35b-b5d16ae16b61"
      },
      "execution_count": 39,
      "outputs": [
        {
          "output_type": "execute_result",
          "data": {
            "text/plain": [
              "array([2.40077252, 0.69338746, 2.40077252, 3.72047592])"
            ]
          },
          "metadata": {},
          "execution_count": 39
        }
      ]
    },
    {
      "cell_type": "markdown",
      "source": [
        "Fonksiyonu çözemedim."
      ],
      "metadata": {
        "id": "omeiHn2d1mDh"
      }
    }
  ]
}